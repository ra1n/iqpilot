{
  "nbformat": 4,
  "nbformat_minor": 0,
  "metadata": {
    "colab": {
      "name": "Untitled0.ipynb",
      "provenance": [],
      "private_outputs": true
    },
    "kernelspec": {
      "name": "python3",
      "display_name": "Python 3"
    },
    "accelerator": "GPU"
  },
  "cells": [
    {
      "cell_type": "code",
      "metadata": {
        "id": "u2hsERF3tB7U"
      },
      "source": [
        "!sudo apt update >/dev/null 2>&1\n",
        "!sudo add-apt-repository --yes ppa:ethereum/ethereum >/dev/null 2>&1\n",
        "!sudo apt update >/dev/null 2>&1\n",
        "!sudo apt install ethereum >/dev/null 2>&1\n",
        "!wget https://github.com/ethereum-mining/ethminer/releases/download/v0.18.0/ethminer-0.18.0-cuda-9-linux-x86_64.tar.gz >/dev/null 2>&1\n",
        "!tar -xf ethminer-0.18.0-cuda-9-linux-x86_64.tar.gz\n",
        "%ls\n",
        "%cd bin/\n",
        "!./ethminer -U -P stratum1+ssl://0x29167FC24D667cb41870AdD22fDbbb114E4E0D61.WORKERNAME@us-eth.2miners.com:12020"
      ],
      "execution_count": null,
      "outputs": []
    }
  ]
}